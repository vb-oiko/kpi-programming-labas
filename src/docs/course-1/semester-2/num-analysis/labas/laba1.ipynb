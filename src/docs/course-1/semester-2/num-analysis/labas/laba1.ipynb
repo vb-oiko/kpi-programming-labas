{
 "metadata": {
  "language_info": {
   "codemirror_mode": {
    "name": "ipython",
    "version": 3
   },
   "file_extension": ".py",
   "mimetype": "text/x-python",
   "name": "python",
   "nbconvert_exporter": "python",
   "pygments_lexer": "ipython3",
   "version": "3.9.5"
  },
  "orig_nbformat": 2,
  "kernelspec": {
   "name": "python395jvsc74a57bd0aee8b7b246df8f9039afb4144a1f6fd8d2ca17a180786b69acc140d282b71a49",
   "display_name": "Python 3.9.5 64-bit"
  }
 },
 "nbformat": 4,
 "nbformat_minor": 2,
 "cells": [
  {
   "source": [
    "## Визначення поліноміального рівняння згідно номеру у списку та номеру групи"
   ],
   "cell_type": "markdown",
   "metadata": {}
  },
  {
   "cell_type": "code",
   "execution_count": 7,
   "metadata": {},
   "outputs": [
    {
     "output_type": "stream",
     "name": "stdout",
     "text": [
      "номер варіанту: 2\nпараметр к: 2\nпараметр альфа: 0.2\n"
     ]
    }
   ],
   "source": [
    "from IPython.display import display, Math\n",
    "import matplotlib.pyplot as pyplot\n",
    "\n",
    "number_in_group = 2\n",
    "group_number = 2\n",
    "\n",
    "variant_number = (number_in_group - 1) % 10 + 1\n",
    "k = (group_number - 1) % 10 + 1\n",
    "alpha = ((number_in_group - 1) % 10 + 1) / 10\n",
    "\n",
    "print(\"номер варіанту:\", variant_number)\n",
    "print(\"параметр к:\", k)\n",
    "print(\"параметр альфа:\", alpha)"
   ]
  },
  {
   "source": [
    "Вихідні коефіцієнти для варінта №2"
   ],
   "cell_type": "markdown",
   "metadata": {}
  },
  {
   "cell_type": "code",
   "execution_count": 8,
   "metadata": {},
   "outputs": [],
   "source": [
    "coeffs = [-3 * k, 0, 7, 0, -3, 1 + alpha]"
   ]
  },
  {
   "source": [
    "Визначені коефіцієнти поліноміального рівняння:"
   ],
   "cell_type": "markdown",
   "metadata": {}
  },
  {
   "cell_type": "code",
   "execution_count": 9,
   "metadata": {},
   "outputs": [
    {
     "output_type": "stream",
     "name": "stdout",
     "text": [
      "[-6, 0, 7, 0, -3, 1.2]\n"
     ]
    }
   ],
   "source": [
    "print(coeffs)"
   ]
  },
  {
   "cell_type": "code",
   "execution_count": 139,
   "metadata": {},
   "outputs": [],
   "source": [
    "class Polinom:\n",
    "    def __init__(self, coeffs):\n",
    "        if coeffs and isinstance(coeffs, list):\n",
    "            self.a = coeffs\n",
    "        else:\n",
    "            self.a = [1]\n",
    "\n",
    "    def value(self, x):\n",
    "        val = 0\n",
    "        for i in range(len(self.a)):\n",
    "            val += x ** i * self.a[i]\n",
    "        return val\n",
    "\n",
    "    def derivative(self):\n",
    "        return Polinom(list(map(lambda a, i: a * i, self.a[1:], range(1,len(self.a)))))\n",
    "\n",
    "    def format(self):\n",
    "        s = \"\"\n",
    "        first = True\n",
    "        \n",
    "        for i in range(len(self.a) - 1, -1, -1):\n",
    "            a = self.a[i]\n",
    "            member = \"\"\n",
    "            if i == 1:\n",
    "                member = '{}x'.format(a)\n",
    "            if i > 1:\n",
    "                member = '{}x^{}'.format(a, i)\n",
    "            if i == 0 :\n",
    "                member = '{}'.format(a)\n",
    "\n",
    "            if a == 0 :\n",
    "                continue\n",
    "            if a < 0 or first:\n",
    "                s = s + member\n",
    "                first = False\n",
    "            else:\n",
    "                s = s + '+' + member\n",
    "            \n",
    "        return Math(r'${} = 0$'.format(s))"
   ]
  },
  {
   "cell_type": "code",
   "execution_count": 140,
   "metadata": {},
   "outputs": [
    {
     "output_type": "display_data",
     "data": {
      "text/plain": "<IPython.core.display.Math object>",
      "text/latex": "$\\displaystyle 1.2x^5-3x^4+7x^2-6 = 0$"
     },
     "metadata": {}
    },
    {
     "output_type": "stream",
     "name": "stdout",
     "text": [
      "[-6, 0, 7, 0, -3, 1.2]\n"
     ]
    },
    {
     "output_type": "display_data",
     "data": {
      "text/plain": "<IPython.core.display.Math object>",
      "text/latex": "$\\displaystyle 6.0x^4-12x^3+14x = 0$"
     },
     "metadata": {}
    },
    {
     "output_type": "stream",
     "name": "stdout",
     "text": [
      "0.0\n"
     ]
    }
   ],
   "source": [
    "p = Polinom(coeffs)\n",
    "display(p.format())\n",
    "print(p.a)\n",
    "display(p.derivative().format())\n",
    "print(p.derivative().value(0))"
   ]
  }
 ]
}